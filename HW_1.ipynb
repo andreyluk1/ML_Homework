{
 "cells": [
  {
   "cell_type": "code",
   "execution_count": 13,
   "id": "fc1576aa",
   "metadata": {},
   "outputs": [
    {
     "name": "stdout",
     "output_type": "stream",
     "text": [
      "Введите температуру (℃): 28\n",
      "Нормально\n"
     ]
    }
   ],
   "source": [
    "#1.\n",
    "t = float(input(\"Введите температуру (℃): \"))\n",
    "if t < 15.5:\n",
    "    print(\"Холодно\")\n",
    "elif t>28:\n",
    "    print(\"Жарко\")\n",
    "else:\n",
    "    print(\"Нормально\")\n"
   ]
  },
  {
   "cell_type": "code",
   "execution_count": 37,
   "id": "f311d682",
   "metadata": {},
   "outputs": [
    {
     "name": "stdout",
     "output_type": "stream",
     "text": [
      "Введите число строк: 3\n",
      "Введите строки: бот\n",
      "Введите строки: топ\n",
      "Введите строки: мяКоть\n",
      "МЯУ\n"
     ]
    }
   ],
   "source": [
    "#2.\n",
    "n = int(input(\"Введите число строк: \"))\n",
    "x = []\n",
    "\n",
    "for i in range(n):\n",
    "    x.append(input('Введите строки: '))\n",
    "if \"кот\" in str(x) or \"Кот\" in str(x):\n",
    "    print(\"МЯУ\")\n",
    "else:\n",
    "    print(\"НЕТ\")\n",
    "    "
   ]
  },
  {
   "cell_type": "code",
   "execution_count": 70,
   "id": "a4616787",
   "metadata": {},
   "outputs": [
    {
     "name": "stdout",
     "output_type": "stream",
     "text": [
      "Введите строку: грот\n",
      "Введите строку: вигвам\n",
      "Введите строку: гаррота\n",
      "Введите строку: стоп\n",
      "ДА\n"
     ]
    }
   ],
   "source": [
    "#3.\n",
    "x = []\n",
    "while True:\n",
    "    a = input('Введите строку: ')\n",
    "    if str(a) == \"стоп\":\n",
    "        break\n",
    "    x.append(a)\n",
    "    \n",
    "short = min(x,key=len)\n",
    "long = max(x,key=len)\n",
    "\n",
    "if len(set(short) - set(long)) ==0:\n",
    "    print(\"ДА\") \n",
    "else:\n",
    "    print(\"НЕТ\")"
   ]
  },
  {
   "cell_type": "code",
   "execution_count": 74,
   "id": "64abbedc",
   "metadata": {},
   "outputs": [
    {
     "name": "stdout",
     "output_type": "stream",
     "text": [
      "Введите число покупок: 2\n",
      "Введите каждую покупку: молоко\n",
      "Введите каждую покупку: хлеб\n",
      "молоко\n",
      "хлеб\n"
     ]
    }
   ],
   "source": [
    "#4.\n",
    "n = int(input(\"Введите число покупок: \"))\n",
    "x = []\n",
    "\n",
    "for i in range(n):\n",
    "    x.append(input('Введите каждую покупку: '))\n",
    "    \n",
    "print('\\n'.join(x))"
   ]
  },
  {
   "cell_type": "code",
   "execution_count": 81,
   "id": "3db67c21",
   "metadata": {},
   "outputs": [
    {
     "name": "stdout",
     "output_type": "stream",
     "text": [
      "Введите строку: холодно\n",
      "ххооллоодднноо\n"
     ]
    }
   ],
   "source": [
    "#5.\n",
    "st = input('Введите строку: ')\n",
    "\n",
    "print(''.join([x+x for x in st]))\n",
    "\n"
   ]
  },
  {
   "cell_type": "code",
   "execution_count": 84,
   "id": "3e29cbf5",
   "metadata": {},
   "outputs": [
    {
     "name": "stdout",
     "output_type": "stream",
     "text": [
      "Введите имя: Андрей\n",
      "Введите фамилию:Лукьянов\n",
      "Здравствуйте, Андрей Лукьянов.\n"
     ]
    }
   ],
   "source": [
    "#6.\n",
    "def greet():\n",
    "    name = input('Введите имя: ')\n",
    "    surname = input('Введите фамилию:')\n",
    "    print(f'Здравствуйте, {name} {surname}.')\n",
    "greet()"
   ]
  },
  {
   "cell_type": "code",
   "execution_count": 101,
   "id": "caedccff",
   "metadata": {},
   "outputs": [
    {
     "name": "stdout",
     "output_type": "stream",
     "text": [
      "ding\n"
     ]
    }
   ],
   "source": [
    "#7.\n",
    "class LittleBell():\n",
    "    def __init__(self):\n",
    "        self.ding = 'ding'\n",
    "    def sound(self):\n",
    "        print(self.ding)\n",
    "\n",
    "bell= LittleBell()\n",
    "bell.sound()"
   ]
  },
  {
   "cell_type": "code",
   "execution_count": null,
   "id": "18e03566",
   "metadata": {},
   "outputs": [],
   "source": [
    "#8.Остаточные знания\n",
    "\n",
    "# В знаниях по питону дошел до классов, делал какие-то простые штуки с помощью gui (калькулятор, конвертер).\n",
    "# Есть опыт в матлабе, в си, в паскале. В лабе занимаюсь численным моделированием двухфазных потоков, \n",
    "# иногда приходится писать код на си.\n",
    "# "
   ]
  }
 ],
 "metadata": {
  "kernelspec": {
   "display_name": "Python 3",
   "language": "python",
   "name": "python3"
  },
  "language_info": {
   "codemirror_mode": {
    "name": "ipython",
    "version": 3
   },
   "file_extension": ".py",
   "mimetype": "text/x-python",
   "name": "python",
   "nbconvert_exporter": "python",
   "pygments_lexer": "ipython3",
   "version": "3.8.8"
  }
 },
 "nbformat": 4,
 "nbformat_minor": 5
}
