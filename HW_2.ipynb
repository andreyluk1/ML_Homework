{
 "cells": [
  {
   "cell_type": "code",
   "execution_count": 9,
   "id": "888fc8b0",
   "metadata": {},
   "outputs": [
    {
     "name": "stdout",
     "output_type": "stream",
     "text": [
      "Введите количество чисел: 5\n",
      "Введите число: 1\n",
      "Введите число: 3\n",
      "Введите число: 2\n",
      "Введите число: 5\n",
      "Введите число: 4\n",
      "[5.0, 4.0, 3.0, 2.0, 1.0]\n"
     ]
    }
   ],
   "source": [
    "#1. Сортировка в обратном порядке\n",
    "n = int(input(\"Введите количество чисел: \"))\n",
    "x = []\n",
    "\n",
    "for i in range(n):\n",
    "    x.append(float(input('Введите число: ')))\n",
    "print(sorted(x, reverse=True))"
   ]
  },
  {
   "cell_type": "code",
   "execution_count": 31,
   "id": "165640fb",
   "metadata": {},
   "outputs": [
    {
     "name": "stdout",
     "output_type": "stream",
     "text": [
      "Введите количество строк: 3\n",
      "Введите строку: SVO TRS 29481292\n",
      "Введите строку: %%LJPZ DME 11113283675\n",
      "Введите строку: ####&%^^^^\n",
      "SVO TRS 29481292\n",
      "LJPZ DME 11113283675\n"
     ]
    }
   ],
   "source": [
    "#2.Фильтр\n",
    "n = int(input(\"Введите количество строк: \"))\n",
    "x = []\n",
    "\n",
    "for i in range(n):\n",
    "    s=str(input('Введите строку: '))\n",
    "    if (s.startswith(\"%%\")) == True:\n",
    "        x.append(s[2:])\n",
    "    elif (s.startswith(\"####\")) == True:\n",
    "        i=i+1\n",
    "    else:\n",
    "        x.append(s)\n",
    "\n",
    "print('\\n'.join(x))  \n",
    "\n",
    "\n"
   ]
  },
  {
   "cell_type": "code",
   "execution_count": 43,
   "id": "3de3a54b",
   "metadata": {},
   "outputs": [
    {
     "name": "stdout",
     "output_type": "stream",
     "text": [
      "Введите количество чисел: 5\n",
      "Введите число: 100\n",
      "Введите число: 222\n",
      "Введите число: 300\n",
      "Введите число: 444\n",
      "Введите число: 500\n",
      "Введите число p: 2\n",
      "Введите число q: 4\n",
      "966.0\n"
     ]
    }
   ],
   "source": [
    "#3. От и до\n",
    "n = int(input(\"Введите количество чисел: \"))\n",
    "x = []\n",
    "\n",
    "for i in range(n):\n",
    "    s=float(input('Введите число: '))\n",
    "    x.append(s)\n",
    "\n",
    "p = int(input(\"Введите число p: \"))  \n",
    "q = int(input(\"Введите число q: \")) \n",
    "c=0\n",
    "for j in range(p-1,q):\n",
    "    c=x[j]+c\n",
    "\n",
    "print(c)\n",
    "    "
   ]
  },
  {
   "cell_type": "code",
   "execution_count": 87,
   "id": "79c53246",
   "metadata": {},
   "outputs": [
    {
     "name": "stdout",
     "output_type": "stream",
     "text": [
      "Введите строку: Сидоров 2, Смирнова 5, Самойкин 4, Емельянов 2, Кац 5, Вдовиченко 5, Северин 4, Субботкин 5\n",
      "Введите количество мест: 3\n",
      "Вдовиченко, Кац, Смирнова\n"
     ]
    }
   ],
   "source": [
    "#4. Список отличников\n",
    "def Artek(s,n):\n",
    "    y=[]\n",
    "    people=s.split(', ')\n",
    "    for i in range(len(people)):\n",
    "        if people[i].endswith('5')== True:\n",
    "            y.append(people[i][0:-2])        \n",
    "        \n",
    "    return (sorted(y)[:n])\n",
    "\n",
    "s=str(input('Введите строку: '))\n",
    "n=int(input('Введите количество мест: '))\n",
    "#s = \"Сидоров 2, Смирнова 5, Самойкин 4, Емельянов 2, Кац 5, Вдовиченко 5, Северин 4, Субботкин 5\"\n",
    "#n = 3\n",
    "print(*Artek(s, n), sep=', ')"
   ]
  },
  {
   "cell_type": "code",
   "execution_count": 198,
   "id": "57309b68",
   "metadata": {},
   "outputs": [
    {
     "name": "stdout",
     "output_type": "stream",
     "text": [
      "Надежный пароль\n"
     ]
    }
   ],
   "source": [
    "#5. Пароль\n",
    "def password_level(s):\n",
    "    pas=list(s)\n",
    "    c1 = c2 = c3 = 0\n",
    "    \n",
    "    if len(pas)<8:\n",
    "        return('Недопустимый пароль')\n",
    "    for i in range(len(pas)):\n",
    "        if pas[i].isdigit():\n",
    "            c1=c1+1\n",
    "        elif pas[i].islower():\n",
    "            c2=c2+1\n",
    "        elif pas[i].isupper():\n",
    "            c3=c3+1\n",
    "    #print(c1,c2,c3, len(pas))\n",
    "    if (c1 or c2 or c3) == len(pas):\n",
    "        return('Ненадежный пароль')\n",
    "    elif (c2 +c3) == len(pas) or c1+c2 == len(pas) or c1+c3== len(pas):\n",
    "        return('Слабый пароль')\n",
    "    else:\n",
    "        return('Надежный пароль')\n",
    "        \n",
    "    \n",
    "    \n",
    "\n",
    "#s=str(input('Введите пароль: '))\n",
    "s= \"12312ASDAsS\"\n",
    "print(password_level(s))"
   ]
  },
  {
   "cell_type": "code",
   "execution_count": null,
   "id": "9158838d",
   "metadata": {},
   "outputs": [],
   "source": []
  },
  {
   "cell_type": "code",
   "execution_count": null,
   "id": "b2be3536",
   "metadata": {},
   "outputs": [],
   "source": []
  }
 ],
 "metadata": {
  "kernelspec": {
   "display_name": "Python 3",
   "language": "python",
   "name": "python3"
  },
  "language_info": {
   "codemirror_mode": {
    "name": "ipython",
    "version": 3
   },
   "file_extension": ".py",
   "mimetype": "text/x-python",
   "name": "python",
   "nbconvert_exporter": "python",
   "pygments_lexer": "ipython3",
   "version": "3.8.8"
  }
 },
 "nbformat": 4,
 "nbformat_minor": 5
}
