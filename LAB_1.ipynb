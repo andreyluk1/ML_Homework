{
 "cells": [
  {
   "cell_type": "code",
   "execution_count": 75,
   "id": "458fb62d",
   "metadata": {},
   "outputs": [],
   "source": [
    "class Pupa():\n",
    "    def __init__(self):\n",
    "        self.salary = 10\n",
    "        \n",
    "    def do_work(self,s1, s2):\n",
    "        print(list(map(lambda x, y: x + y, s1, s2)))\n",
    "            \n",
    "    def take_salary(self, new_salary):\n",
    "        self.salary = self.salary*new_salary \n",
    "        print(self.salary)\n",
    "        \n",
    "\n",
    "class Lupa():\n",
    "    def __init__(self):\n",
    "        self.salary = 20 \n",
    "    \n",
    "    def do_work(self, s1, s2):\n",
    "        print(list(map(lambda x, y: x - y, s1, s2)))\n",
    "    \n",
    "    def take_salary(self, new_salary):\n",
    "        self.salary = self.salary*new_salary\n",
    "        print(self.salary)\n",
    "\n",
    "class Accountant():\n",
    "    def give_salary(self, worker):\n",
    "        worker.take_salary(2)\n"
   ]
  },
  {
   "cell_type": "code",
   "execution_count": 76,
   "id": "37c51d20",
   "metadata": {},
   "outputs": [
    {
     "name": "stdout",
     "output_type": "stream",
     "text": [
      "[5, 7, 9]\n",
      "[1, 3, 5]\n",
      "20\n",
      "40\n"
     ]
    }
   ],
   "source": [
    "pupa = Pupa()\n",
    "lupa = Lupa()\n",
    "account = Accountant()\n",
    "pupa.do_work([1,2,3], [4,5,6])\n",
    "lupa.do_work([4,5,6], [3,2,1])\n",
    "account.give_salary(pupa)\n",
    "account.give_salary(lupa)\n"
   ]
  },
  {
   "cell_type": "code",
   "execution_count": null,
   "id": "dc2dfea4",
   "metadata": {},
   "outputs": [],
   "source": []
  }
 ],
 "metadata": {
  "kernelspec": {
   "display_name": "Python 3",
   "language": "python",
   "name": "python3"
  },
  "language_info": {
   "codemirror_mode": {
    "name": "ipython",
    "version": 3
   },
   "file_extension": ".py",
   "mimetype": "text/x-python",
   "name": "python",
   "nbconvert_exporter": "python",
   "pygments_lexer": "ipython3",
   "version": "3.8.8"
  }
 },
 "nbformat": 4,
 "nbformat_minor": 5
}
